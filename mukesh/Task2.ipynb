{
  "nbformat": 4,
  "nbformat_minor": 0,
  "metadata": {
    "colab": {
      "private_outputs": true,
      "provenance": [],
      "gpuType": "T4"
    },
    "kernelspec": {
      "name": "python3",
      "display_name": "Python 3"
    },
    "language_info": {
      "name": "python"
    },
    "accelerator": "GPU"
  },
  "cells": [
    {
      "cell_type": "code",
      "execution_count": null,
      "metadata": {
        "id": "80pEsdz8baML"
      },
      "outputs": [],
      "source": [
        "!pip install torch\n"
      ]
    },
    {
      "cell_type": "code",
      "source": [
        "!pip install torchtext"
      ],
      "metadata": {
        "id": "Yc6dKF8PmxMv"
      },
      "execution_count": null,
      "outputs": []
    },
    {
      "cell_type": "code",
      "source": [
        "import torch\n",
        "import torch.nn as nn\n",
        "import torch.optim as optim\n",
        "import pandas as pd\n",
        "import re\n",
        "from sklearn.model_selection import train_test_split\n",
        "from nltk.corpus import stopwords\n",
        "from nltk.tokenize import word_tokenize\n",
        "from collections import Counter\n",
        "from torch.utils.data import DataLoader, Dataset\n",
        "from tqdm import tqdm\n",
        "import numpy as np\n",
        "\n",
        "# Set random seeds for reproducibility\n",
        "SEED = 1234\n",
        "torch.manual_seed(SEED)\n"
      ],
      "metadata": {
        "id": "8ZvnIADDbck4"
      },
      "execution_count": null,
      "outputs": []
    },
    {
      "cell_type": "code",
      "source": [
        "!pip install fasttext gensim\n"
      ],
      "metadata": {
        "id": "upB7dfcnsf_K"
      },
      "execution_count": null,
      "outputs": []
    },
    {
      "cell_type": "code",
      "source": [
        "class RNN(nn.Module):\n",
        "    def __init__(self, vocab_size, embedding_dim, hidden_dim):\n",
        "        super(RNN, self).__init__()\n",
        "        self.embedding = nn.Embedding(vocab_size, embedding_dim)\n",
        "        self.rnn = nn.RNN(embedding_dim, hidden_dim, batch_first=True)\n",
        "        self.fc = nn.Linear(hidden_dim, vocab_size)\n",
        "\n",
        "    def forward(self, x):\n",
        "        x = self.embedding(x)\n",
        "        out, _ = self.rnn(x)\n",
        "        out = self.fc(out)\n",
        "        return out"
      ],
      "metadata": {
        "id": "8aFLuKuBbgTP"
      },
      "execution_count": null,
      "outputs": []
    },
    {
      "cell_type": "code",
      "source": [
        "df=pd.read_csv(\"/\")\n",
        "df.head()"
      ],
      "metadata": {
        "id": "3yeev2x88-zl"
      },
      "execution_count": null,
      "outputs": []
    },
    {
      "cell_type": "code",
      "source": [
        "df.info()"
      ],
      "metadata": {
        "id": "hVsEaPcQ9l0P"
      },
      "execution_count": null,
      "outputs": []
    },
    {
      "cell_type": "code",
      "source": [
        "corpus=[]\n",
        "for i in range(len(df)):\n",
        "  corpus.append(str(df['Overview'][i]))"
      ],
      "metadata": {
        "id": "PPRhCxKG9R51"
      },
      "execution_count": null,
      "outputs": []
    },
    {
      "cell_type": "code",
      "source": [
        "corpus[0]"
      ],
      "metadata": {
        "id": "oI_sO7HX9Y--"
      },
      "execution_count": null,
      "outputs": []
    },
    {
      "cell_type": "code",
      "source": [
        "corpus = [sentence.lower() for sentence in corpus]\n",
        "\n",
        "# Tokenize the text\n",
        "tokenizer = {}\n",
        "for sentence in corpus:\n",
        "    for word in sentence.split():\n",
        "        if word not in tokenizer:\n",
        "            tokenizer[word] = len(tokenizer) + 1\n",
        "\n",
        "# Create sequences\n",
        "#what are you?<EOS>\n",
        "sequences = []\n",
        "for sentence in corpus:\n",
        "    words = sentence.split()\n",
        "    seq = [tokenizer[word] for word in words]\n",
        "    for i in range(1, len(seq)):\n",
        "        sequences.append(seq[:i+1])\n",
        "\n",
        "# Padding sequences\n",
        "max_len = max([len(seq) for seq in sequences])\n",
        "sequences = [seq + [0]*(max_len-len(seq)) for seq in sequences]\n",
        "\n",
        "# Convert to tensors\n",
        "sequences = torch.tensor(sequences)\n",
        "print(sequences)\n",
        "\n",
        "# Dataset and DataLoader\n",
        "class TextDataset(Dataset):\n",
        "    def __init__(self, sequences):\n",
        "        self.sequences = sequences\n",
        "\n",
        "    def __len__(self):\n",
        "        return len(self.sequences)\n",
        "\n",
        "    def __getitem__(self, idx):\n",
        "        return self.sequences[idx][:-1], self.sequences[idx][1:]\n",
        "\n",
        "dataset = TextDataset(sequences)\n",
        "dataloader = DataLoader(dataset, batch_size=2, shuffle=True)\n"
      ],
      "metadata": {
        "id": "3DQ2Fr9c2Jvg"
      },
      "execution_count": null,
      "outputs": []
    },
    {
      "cell_type": "code",
      "source": [
        "vocab_size = len(tokenizer) + 1\n",
        "embedding_dim = 10\n",
        "hidden_dim = 20\n",
        "model = RNN(vocab_size, embedding_dim, hidden_dim)"
      ],
      "metadata": {
        "id": "AKlaZnZibjE7"
      },
      "execution_count": null,
      "outputs": []
    },
    {
      "cell_type": "code",
      "source": [
        "criterion = nn.CrossEntropyLoss()\n",
        "optimizer = torch.optim.Adam(model.parameters(), lr=0.05)\n",
        "accuracy = 0\n",
        "\n",
        "num_epochs = 15\n",
        "for epoch in range(num_epochs):\n",
        "    for inputs, targets in dataloader:\n",
        "        outputs = model(inputs)\n",
        "        loss = criterion(outputs.view(-1, vocab_size), targets.view(-1))\n",
        "\n",
        "        accuracy = (torch.argmax(outputs, dim=2) == targets).float().mean()\n",
        "        optimizer.zero_grad()\n",
        "        loss.backward()\n",
        "        optimizer.step()\n",
        "\n",
        "    print(f'Epoch {epoch+1}/{num_epochs}, Loss: {loss.item()}, Accuracy: {accuracy}')\n"
      ],
      "metadata": {
        "id": "dPWlzqAibmn6"
      },
      "execution_count": null,
      "outputs": []
    },
    {
      "cell_type": "code",
      "source": [
        "def predict_next_word(model, tokenizer, input_text, max_len):\n",
        "    model.eval()\n",
        "    words = input_text.split()\n",
        "    seq = [tokenizer[word] for word in words if word in tokenizer]\n",
        "    input_seq = torch.tensor(seq).unsqueeze(0)\n",
        "    with torch.no_grad():\n",
        "        outputs = model(input_seq)\n",
        "    predicted_word_idx = torch.argmax(outputs[0][-1]).item()\n",
        "\n",
        "    for word, idx in tokenizer.items():\n",
        "        if idx == predicted_word_idx:\n",
        "            return word"
      ],
      "metadata": {
        "id": "0SJRHEUX27aY"
      },
      "execution_count": null,
      "outputs": []
    },
    {
      "cell_type": "code",
      "source": [
        "input_text = \"my name is say, i\"\n",
        "next_word = predict_next_word(model, tokenizer, input_text, max_len)\n",
        "print(f'The next word is: {next_word}')"
      ],
      "metadata": {
        "id": "DCfs3mWR2-xZ"
      },
      "execution_count": null,
      "outputs": []
    }
  ]
}