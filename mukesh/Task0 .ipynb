{
  "nbformat": 4,
  "nbformat_minor": 0,
  "metadata": {
    "colab": {
      "private_outputs": true,
      "provenance": []
    },
    "kernelspec": {
      "name": "python3",
      "display_name": "Python 3"
    },
    "language_info": {
      "name": "python"
    }
  },
  "cells": [
    {
      "cell_type": "code",
      "execution_count": null,
      "metadata": {
        "id": "0Sp4Oc6ztCsV"
      },
      "outputs": [],
      "source": [
        "import numpy as np\n",
        "import pandas as pd\n",
        "import seaborn as sns\n",
        "import matplotlib.pyplot as plt\n",
        "import missingno\n",
        "from collections import Counter"
      ]
    },
    {
      "cell_type": "code",
      "source": [
        "!pip install catboost"
      ],
      "metadata": {
        "id": "U-eBH3m805FH"
      },
      "execution_count": null,
      "outputs": []
    },
    {
      "cell_type": "code",
      "source": [
        "#machine learning models\n",
        "from sklearn.linear_model import LinearRegression,Perceptron\n",
        "from sklearn.svm import SVR,LinearSVR\n",
        "from sklearn.ensemble import RandomForestRegressor\n",
        "from sklearn.tree import DecisionTreeRegressor\n",
        "from catboost import CatBoostRegressor\n",
        "from sklearn.model_selection import train_test_split\n",
        "\n",
        "#model evaluation\n",
        "from sklearn.metrics import mean_squared_error, r2_score, accuracy_score\n",
        "\n",
        "#hyperparameter tuning\n",
        "from sklearn.model_selection import GridSearchCV"
      ],
      "metadata": {
        "id": "RGpalLPo0ziK"
      },
      "execution_count": null,
      "outputs": []
    },
    {
      "cell_type": "code",
      "source": [
        "df=pd.read_csv('/content/train.csv')"
      ],
      "metadata": {
        "id": "MMyRFyb9tZ3r"
      },
      "execution_count": null,
      "outputs": []
    },
    {
      "cell_type": "code",
      "source": [
        "df.head(10)"
      ],
      "metadata": {
        "id": "lZ537ZBGtgSM"
      },
      "execution_count": null,
      "outputs": []
    },
    {
      "cell_type": "code",
      "source": [
        "df.isna().sum()"
      ],
      "metadata": {
        "id": "Bptc5mVuthso"
      },
      "execution_count": null,
      "outputs": []
    },
    {
      "cell_type": "code",
      "source": [
        "df.info()"
      ],
      "metadata": {
        "id": "SYjYD0brtoXK"
      },
      "execution_count": null,
      "outputs": []
    },
    {
      "cell_type": "code",
      "source": [
        "df[\"extras\"].unique()"
      ],
      "metadata": {
        "id": "AVz-pgSCtzUE"
      },
      "execution_count": null,
      "outputs": []
    },
    {
      "cell_type": "code",
      "source": [
        "df[df[\"extras\"] == \"extras\"]"
      ],
      "metadata": {
        "id": "2w9UTajRuIAf"
      },
      "execution_count": null,
      "outputs": []
    },
    {
      "cell_type": "code",
      "source": [
        "df.drop(2579, inplace=True)"
      ],
      "metadata": {
        "id": "2Wig4t3WuvGe"
      },
      "execution_count": null,
      "outputs": []
    },
    {
      "cell_type": "code",
      "source": [
        "df[\"extras\"].unique()"
      ],
      "metadata": {
        "id": "rjP78G91uzEj"
      },
      "execution_count": null,
      "outputs": []
    },
    {
      "cell_type": "code",
      "source": [
        "cols = [\"result\", \"toss\"]\n",
        "\n",
        "\n",
        "for col in cols:\n",
        "    df[col] = (df[col] == \"TRUE\").astype(\"int\")\n",
        "df[cols]"
      ],
      "metadata": {
        "id": "ysbGq-zQu3Sm"
      },
      "execution_count": null,
      "outputs": []
    },
    {
      "cell_type": "code",
      "source": [
        "dtypes = {x:\"\" for x in df.columns}\n",
        "dtypes"
      ],
      "metadata": {
        "id": "zu5xG6oJwi1w"
      },
      "execution_count": null,
      "outputs": []
    },
    {
      "cell_type": "code",
      "source": [
        "dtypes = {\n",
        "    'year': 'int',\n",
        "    'toss': 'int',\n",
        "    'wickets lost': 'float',\n",
        "    'fours': 'float',\n",
        "    'sixes': 'float',\n",
        "    'extras': 'float',\n",
        "    'run rate ': 'float',\n",
        "    'average innings strike rate': 'float',\n",
        "    'highest score': 'int',\n",
        "    'wickets taken': 'float',\n",
        "    'given extras': 'float',\n",
        "    'result': 'int',\n",
        "    'runs scored': 'int'\n",
        "}"
      ],
      "metadata": {
        "id": "VXW_L4aFu7tY"
      },
      "execution_count": null,
      "outputs": []
    },
    {
      "cell_type": "code",
      "source": [
        "df.info()"
      ],
      "metadata": {
        "id": "Y3oGYi5du-fD"
      },
      "execution_count": null,
      "outputs": []
    },
    {
      "cell_type": "code",
      "source": [
        "df[\"highest score\"].describe()"
      ],
      "metadata": {
        "id": "sCWcidTgvGm5"
      },
      "execution_count": null,
      "outputs": []
    },
    {
      "cell_type": "code",
      "source": [
        "for col in df.columns:\n",
        "  print(col)"
      ],
      "metadata": {
        "id": "tFv1lbN5vblV"
      },
      "execution_count": null,
      "outputs": []
    },
    {
      "cell_type": "code",
      "source": [
        "df = df.astype(dtypes)"
      ],
      "metadata": {
        "id": "dDpBQm7jvKX1"
      },
      "execution_count": null,
      "outputs": []
    },
    {
      "cell_type": "code",
      "source": [
        "df.info()"
      ],
      "metadata": {
        "id": "AckX-P7Fwxoo"
      },
      "execution_count": null,
      "outputs": []
    },
    {
      "cell_type": "code",
      "source": [
        "sns.pairplot(df)"
      ],
      "metadata": {
        "id": "8bTYZCO_w1uM"
      },
      "execution_count": null,
      "outputs": []
    },
    {
      "cell_type": "code",
      "source": [
        "contigency_tbl=pd.crosstab(df[\"team name\"],df.result)\n",
        "probability_tbl=contigency_tbl/contigency_tbl.sum()\n",
        "sns.heatmap(probability_tbl,annot=True,center=0.5,cmap=\"Greys\")"
      ],
      "metadata": {
        "id": "CLBl8UtByIOm"
      },
      "execution_count": null,
      "outputs": []
    },
    {
      "cell_type": "code",
      "source": [
        "# Use the astype function to convert the data type\n",
        "df[\"boundaries\"]=(df[\"sixes\"]+df[\"fours\"])"
      ],
      "metadata": {
        "id": "hM7qLYBly2kV"
      },
      "execution_count": null,
      "outputs": []
    },
    {
      "cell_type": "code",
      "source": [
        "df.head()"
      ],
      "metadata": {
        "id": "WsqvE97_y8hv"
      },
      "execution_count": null,
      "outputs": []
    },
    {
      "cell_type": "code",
      "source": [
        "df[\"wickets left\"]=11-df[\"wickets lost\"]"
      ],
      "metadata": {
        "id": "SL-hfgRRzwio"
      },
      "execution_count": null,
      "outputs": []
    },
    {
      "cell_type": "code",
      "source": [
        "df.head()"
      ],
      "metadata": {
        "id": "Pgv-2ajJz33g"
      },
      "execution_count": null,
      "outputs": []
    },
    {
      "source": [
        "df.plot.scatter(x='wickets lost', y='runs scored', c='wickets lost')"
      ],
      "cell_type": "code",
      "execution_count": null,
      "outputs": [],
      "metadata": {
        "id": "7O7W3cis0GQH"
      }
    },
    {
      "cell_type": "code",
      "source": [
        "df.isnull().sum().sort_values(ascending=False)"
      ],
      "metadata": {
        "id": "yIEXs_DL0K-Q"
      },
      "execution_count": null,
      "outputs": []
    },
    {
      "cell_type": "code",
      "source": [
        "missingno.matrix(df)"
      ],
      "metadata": {
        "id": "WiE89F8e0b2u"
      },
      "execution_count": null,
      "outputs": []
    },
    {
      "cell_type": "code",
      "source": [
        "categorical_cols = [\"team name\", \"opponent\", \"host\"]\n",
        "# categorical_cols = []\n",
        "numeric_cols = [\"year\", \"toss\", \"wickets taken\", \"fours\", \"sixes\", \"extras\", \"run rate \", # sneaky\n",
        "                \"average innings strike rate\", \"highest score\", \"wickets taken\", \"given extras\", \"result\",\"boundaries\",\"wickets left\"]"
      ],
      "metadata": {
        "id": "qtYcV1jE15nn"
      },
      "execution_count": null,
      "outputs": []
    },
    {
      "cell_type": "code",
      "source": [
        "one_hot_encoded_data = pd.get_dummies(df, columns=categorical_cols)\n",
        "print(one_hot_encoded_data)"
      ],
      "metadata": {
        "id": "eparjuor5Gjz",
        "collapsed": true
      },
      "execution_count": null,
      "outputs": []
    },
    {
      "cell_type": "code",
      "source": [
        "from sklearn.preprocessing import OneHotEncoder\n",
        "encoder = OneHotEncoder(sparse_output=False)"
      ],
      "metadata": {
        "id": "7SiKlzl17g2p"
      },
      "execution_count": null,
      "outputs": []
    },
    {
      "cell_type": "code",
      "source": [
        "one_hot_encoded = encoder.fit_transform(df[categorical_cols])"
      ],
      "metadata": {
        "id": "fo7viwQ27bic"
      },
      "execution_count": null,
      "outputs": []
    },
    {
      "cell_type": "code",
      "source": [
        "one_hot_df = pd.DataFrame(one_hot_encoded, columns=encoder.get_feature_names_out(categorical_cols))"
      ],
      "metadata": {
        "id": "fxc4hnsj7WNt"
      },
      "execution_count": null,
      "outputs": []
    },
    {
      "cell_type": "code",
      "source": [
        "df_encoded = pd.concat([df, one_hot_df], axis=1)"
      ],
      "metadata": {
        "id": "_agaxtOO72Q6"
      },
      "execution_count": null,
      "outputs": []
    },
    {
      "cell_type": "code",
      "source": [
        "df_encoded.drop(\"team name\", axis=1, inplace=True)\n",
        "df_encoded.drop(\"opponent\", axis=1, inplace=True)\n",
        "df_encoded.drop(\"host\", axis=1, inplace=True)"
      ],
      "metadata": {
        "id": "wtslCYRX8KWg"
      },
      "execution_count": null,
      "outputs": []
    },
    {
      "cell_type": "code",
      "source": [
        "df_cleaned = df_encoded.dropna(axis=1, how='all')"
      ],
      "metadata": {
        "id": "FW-eMApM9ePQ"
      },
      "execution_count": null,
      "outputs": []
    },
    {
      "cell_type": "code",
      "source": [
        "df['boundaries'].fillna(int(df['boundaries'].mean()), inplace=True)"
      ],
      "metadata": {
        "id": "D-P-XtiJoCju"
      },
      "execution_count": null,
      "outputs": []
    },
    {
      "cell_type": "code",
      "source": [
        "df['wickets left'].fillna(int(df['wickets left'].mean()), inplace=True)\n",
        "df['wickets taken'].fillna(int(df['wickets taken'].mean()), inplace=True)"
      ],
      "metadata": {
        "id": "qGGhglfgoJ1C"
      },
      "execution_count": null,
      "outputs": []
    },
    {
      "cell_type": "code",
      "source": [
        "df_cleaned.dropna(subset=['runs scored'], inplace=True)"
      ],
      "metadata": {
        "id": "UfA7Sda9oTHf"
      },
      "execution_count": null,
      "outputs": []
    },
    {
      "cell_type": "code",
      "source": [
        "train_dataset, test_dataset = train_test_split(df_cleaned, test_size=0.2, random_state=10)"
      ],
      "metadata": {
        "id": "VtOrlu_W0qnx"
      },
      "execution_count": null,
      "outputs": []
    },
    {
      "cell_type": "code",
      "source": [
        "def X_y_split(df: pd.DataFrame):\n",
        "    X = df.drop(\"runs scored\", axis=1)\n",
        "    y = df[\"runs scored\"]\n",
        "    return X, y"
      ],
      "metadata": {
        "id": "Yj4TWM_z1bGt"
      },
      "execution_count": null,
      "outputs": []
    },
    {
      "cell_type": "code",
      "source": [
        "X_train, y_train = X_y_split(train_dataset)"
      ],
      "metadata": {
        "id": "oas8sQrk1wBC"
      },
      "execution_count": null,
      "outputs": []
    },
    {
      "cell_type": "code",
      "source": [
        "X_train.head()"
      ],
      "metadata": {
        "id": "NptiEdlT7-XM"
      },
      "execution_count": null,
      "outputs": []
    },
    {
      "cell_type": "code",
      "source": [
        "X_train.info()"
      ],
      "metadata": {
        "id": "_yVEcXyl8Emy"
      },
      "execution_count": null,
      "outputs": []
    },
    {
      "cell_type": "code",
      "source": [
        "X_test, y_test = X_y_split(test_dataset)"
      ],
      "metadata": {
        "id": "RLpOkYze1x1l"
      },
      "execution_count": null,
      "outputs": []
    },
    {
      "cell_type": "code",
      "source": [
        "from sklearn.impute import SimpleImputer\n",
        "\n",
        "# Create an imputer object\n",
        "imputer = SimpleImputer(strategy=\"mean\")\n",
        "\n",
        "# Fit the imputer on the training data\n",
        "imputer.fit(X_train)\n",
        "\n",
        "# Transform the training and test data\n",
        "X_train = imputer.transform(X_train)\n",
        "X_train = pd.DataFrame(X_train)\n",
        "X_test = imputer.transform(X_test)\n",
        "X_test = pd.DataFrame(X_test)"
      ],
      "metadata": {
        "id": "yoUZTyso89mr"
      },
      "execution_count": null,
      "outputs": []
    },
    {
      "cell_type": "code",
      "source": [
        "X_train.isna().sum()"
      ],
      "metadata": {
        "id": "BJHf45uD8_d8",
        "collapsed": true
      },
      "execution_count": null,
      "outputs": []
    },
    {
      "cell_type": "code",
      "source": [
        "df_cleaned.reset_index(drop=True, inplace=True)"
      ],
      "metadata": {
        "id": "Inf08gHm9jIb"
      },
      "execution_count": null,
      "outputs": []
    },
    {
      "cell_type": "code",
      "source": [
        "svr = SVR()\n",
        "svr.fit(X_train, y_train)\n",
        "y_test_pred = svr.predict(X_test)\n",
        "print(\"RMSE: \", mean_squared_error(y_test, y_test_pred, squared=False))"
      ],
      "metadata": {
        "id": "8xbjbt0f10wx"
      },
      "execution_count": null,
      "outputs": []
    },
    {
      "cell_type": "code",
      "source": [
        "linreg=LinearRegression()\n",
        "linreg.fit(X_train,y_train)\n",
        "y_test_pred = linreg.predict(X_test)\n",
        "print(\"RMSE: \", mean_squared_error(y_test, y_test_pred, squared=False))"
      ],
      "metadata": {
        "id": "R2GQYnZ76cBl"
      },
      "execution_count": null,
      "outputs": []
    },
    {
      "cell_type": "code",
      "source": [
        "p=Perceptron()\n",
        "p.fit(X_train,y_train)\n",
        "y_test_pred = p.predict(X_test)\n",
        "print(\"RMSE: \", mean_squared_error(y_test, y_test_pred, squared=False))"
      ],
      "metadata": {
        "id": "1bjJCx4rqrnE"
      },
      "execution_count": null,
      "outputs": []
    },
    {
      "cell_type": "code",
      "source": [
        "linsvr=LinearSVR()\n",
        "linsvr.fit(X_train,y_train)\n",
        "Y_pred=linsvr.predict(X_test)\n",
        "y_test_pred = linsvr.predict(X_test)\n",
        "print(\"RMSE: \", mean_squared_error(y_test, y_test_pred, squared=False))"
      ],
      "metadata": {
        "id": "xXSOM_fzq5FB"
      },
      "execution_count": null,
      "outputs": []
    },
    {
      "cell_type": "code",
      "source": [
        "rfg=RandomForestRegressor()\n",
        "rfg.fit(X_train,y_train)\n",
        "Y_pred=rfg.predict(X_test)\n",
        "y_test_pred = rfg.predict(X_test)\n",
        "print(\"RMSE: \", mean_squared_error(y_test, y_test_pred, squared=False))"
      ],
      "metadata": {
        "id": "G1X57ClorKua"
      },
      "execution_count": null,
      "outputs": []
    },
    {
      "cell_type": "code",
      "source": [
        "cbr=CatBoostRegressor()\n",
        "cbr.fit(X_train,y_train)\n",
        "Y_pred=cbr.predict(X_test)\n",
        "y_test_pred = cbr.predict(X_test)\n",
        "print(\"RMSE: \", mean_squared_error(y_test, y_test_pred, squared=False))"
      ],
      "metadata": {
        "collapsed": true,
        "id": "IB2iU_7orZGq"
      },
      "execution_count": null,
      "outputs": []
    },
    {
      "cell_type": "code",
      "source": [
        "df_cleaned"
      ],
      "metadata": {
        "id": "w-KjMVa0ryVX"
      },
      "execution_count": null,
      "outputs": []
    },
    {
      "cell_type": "code",
      "source": [
        "X, y = X_y_split(df_cleaned)\n",
        "svr.fit(X_train, y_train)"
      ],
      "metadata": {
        "id": "PNvsSaokr-nv"
      },
      "execution_count": null,
      "outputs": []
    },
    {
      "cell_type": "code",
      "source": [
        "df_sub = pd.read_csv(\"/content/test.csv\")\n",
        "df_sub"
      ],
      "metadata": {
        "id": "vhrWj2lgsW6t"
      },
      "execution_count": null,
      "outputs": []
    },
    {
      "cell_type": "code",
      "source": [
        "df_sub.info()"
      ],
      "metadata": {
        "id": "Q3P5Jfr-ylgo"
      },
      "execution_count": null,
      "outputs": []
    },
    {
      "cell_type": "code",
      "source": [
        "cols = [\"result\", \"toss\"]\n",
        "\n",
        "\n",
        "for col in cols:\n",
        "    df_sub[col] = (df_sub[col] == \"TRUE\").astype(\"int\")\n",
        "df_sub[cols]"
      ],
      "metadata": {
        "id": "eha-_xAQsfKC"
      },
      "execution_count": null,
      "outputs": []
    },
    {
      "cell_type": "code",
      "source": [
        "df_sub[\"boundaries\"]=(df_sub[\"sixes\"]+df_sub[\"fours\"])"
      ],
      "metadata": {
        "id": "S0DHU8jdyTqB"
      },
      "execution_count": null,
      "outputs": []
    },
    {
      "cell_type": "code",
      "source": [
        "df_sub[\"wickets left\"]=11-df_sub[\"wickets lost\"]"
      ],
      "metadata": {
        "id": "xTsgQYSHyiRA"
      },
      "execution_count": null,
      "outputs": []
    },
    {
      "cell_type": "code",
      "source": [
        "df_sub.head()"
      ],
      "metadata": {
        "id": "qY0L4YQTytpS"
      },
      "execution_count": null,
      "outputs": []
    },
    {
      "cell_type": "code",
      "source": [
        "one_hot_encoded = encoder.fit_transform(df_sub[categorical_cols])"
      ],
      "metadata": {
        "id": "h2r8uI4xs3i_"
      },
      "execution_count": null,
      "outputs": []
    },
    {
      "cell_type": "code",
      "source": [
        "one_hot_df = pd.DataFrame(one_hot_encoded, columns=encoder.get_feature_names_out(categorical_cols))"
      ],
      "metadata": {
        "id": "TJbbdMbftGGi"
      },
      "execution_count": null,
      "outputs": []
    },
    {
      "cell_type": "code",
      "source": [
        "df_sub_encoded = pd.concat([df_sub, one_hot_df], axis=1)"
      ],
      "metadata": {
        "id": "aPD2K7ZCtOvd"
      },
      "execution_count": null,
      "outputs": []
    },
    {
      "cell_type": "code",
      "source": [
        "df_sub_encoded.info()"
      ],
      "metadata": {
        "id": "nLYX6Mrm0E5M"
      },
      "execution_count": null,
      "outputs": []
    },
    {
      "cell_type": "code",
      "source": [
        "columns_df_sub=set(df_sub.columns)\n",
        "columns_df=set(df_cleaned.columns)\n",
        "columns_we_need=columns_df-columns_df_sub\n",
        "columns_sus=columns_df_sub-columns_df"
      ],
      "metadata": {
        "id": "VTDpAYh_0i1W"
      },
      "execution_count": null,
      "outputs": []
    },
    {
      "cell_type": "code",
      "source": [
        "columns_we_need"
      ],
      "metadata": {
        "id": "5veq9ZnC1evy"
      },
      "execution_count": null,
      "outputs": []
    },
    {
      "cell_type": "code",
      "source": [
        "columns_to_zero=['host_BR','host_CA','host_DE','host_ES','host_FR','host_IT','host_JP','host_US']\n",
        "df_sub_encoded[columns_to_zero]=0"
      ],
      "metadata": {
        "id": "SwjKaGYY2bvO"
      },
      "execution_count": null,
      "outputs": []
    },
    {
      "cell_type": "code",
      "source": [
        "columns_sus"
      ],
      "metadata": {
        "id": "002icux71hrZ"
      },
      "execution_count": null,
      "outputs": []
    },
    {
      "cell_type": "code",
      "source": [
        "df_sub_encoded.drop(\"team name\", axis=1, inplace=True)\n",
        "df_sub_encoded.drop(\"opponent\", axis=1, inplace=True)\n",
        "df_sub_encoded.drop(\"host\", axis=1, inplace=True)"
      ],
      "metadata": {
        "id": "nvAioLa3tdj6"
      },
      "execution_count": null,
      "outputs": []
    },
    {
      "cell_type": "code",
      "source": [
        "df_sub.info()"
      ],
      "metadata": {
        "id": "8Wb7P4q1zOAr"
      },
      "execution_count": null,
      "outputs": []
    },
    {
      "cell_type": "code",
      "source": [
        "from sklearn.impute import SimpleImputer\n",
        "\n",
        "# Create an imputer object\n",
        "imputer = SimpleImputer(strategy=\"mean\")\n",
        "\n",
        "# Fit the imputer on the training data\n",
        "imputer.fit(df_sub_encoded)\n",
        "\n",
        "# Transform the training and test data\n",
        "df_sub = imputer.transform(df_sub_encoded)\n",
        "df_sub = pd.DataFrame(df_sub)"
      ],
      "metadata": {
        "id": "fbdycyn6tn8P"
      },
      "execution_count": null,
      "outputs": []
    },
    {
      "cell_type": "code",
      "source": [
        "df_sub.head()"
      ],
      "metadata": {
        "id": "b80siQIxzVHS"
      },
      "execution_count": null,
      "outputs": []
    },
    {
      "cell_type": "code",
      "source": [
        "columns_we_need"
      ],
      "metadata": {
        "id": "FL_o8Ac709MD"
      },
      "execution_count": null,
      "outputs": []
    },
    {
      "cell_type": "code",
      "source": [
        "columns_sus"
      ],
      "metadata": {
        "id": "1XnXAt0H1XyS"
      },
      "execution_count": null,
      "outputs": []
    },
    {
      "cell_type": "code",
      "source": [
        "y_pred = pd.DataFrame()\n",
        "mp = svr.predict(df_sub)\n",
        "y_pred['Runs Scored'] = mp\n",
        "y_pred['Id'] = y_pred.index\n",
        "y_pred.set_index('Id',inplace=True)\n",
        "\n",
        "y_pred.to_csv('submission.csv')\n",
        "y_pred"
      ],
      "metadata": {
        "id": "ccdodidMslFR"
      },
      "execution_count": null,
      "outputs": []
    }
  ]
}